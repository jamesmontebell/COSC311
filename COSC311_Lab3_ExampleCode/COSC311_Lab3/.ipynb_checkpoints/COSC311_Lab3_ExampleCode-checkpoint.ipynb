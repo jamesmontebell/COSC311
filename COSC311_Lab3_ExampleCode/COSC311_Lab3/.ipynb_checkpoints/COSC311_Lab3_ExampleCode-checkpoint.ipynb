{
 "cells": [
  {
   "cell_type": "markdown",
   "id": "b671c0d7",
   "metadata": {},
   "source": [
    "# Lab 3\n",
    "\n"
   ]
  },
  {
   "cell_type": "markdown",
   "id": "4ef58830",
   "metadata": {},
   "source": [
    "Task 1: Mean values of the \"Bejaia Region Dataset\"\n",
    "1) Using the \"Bejaia Region Dataset\", calculate and show the mean values of four attributes (\"Temperature\", \"RH\" (Relative Humidity), \"Ws\" (Wind speed) and \"Rain\", respectively) for each class (i.e. for “not fire” and “fire”, respectively);\n",
    "2) Draw a bar figure to show the mean values of these attributes for each class;\n",
    "3) Describe your observations in the above figure;"
   ]
  },
  {
   "cell_type": "code",
   "execution_count": 29,
   "id": "967c1f33",
   "metadata": {},
   "outputs": [
    {
     "name": "stdout",
     "output_type": "stream",
     "text": [
      "Mean temp for fire: 32.88135593220339\n",
      "Mean RH for fire: 63.644067796610166\n",
      "Mean Ws for fire: 15.64406779661017\n",
      "Mean Rain for fire: 0.013559322033898306\n",
      "\n",
      "Mean temp for not fire: 29.58730158730159\n",
      "Mean RH for not fire: 72.03174603174604\n",
      "Mean Ws for not fire: 16.333333333333332\n",
      "Mean Rain for not fire: 1.6190476190476184\n"
     ]
    }
   ],
   "source": [
    "import pandas as pd\n",
    "import numpy as np\n",
    "from matplotlib import pyplot as plt\n",
    "import stats\n",
    "\n",
    "# read data \n",
    "BejaiaData = pd.read_csv('Bejaia_Region.csv')\n",
    "SidiData = pd.read_csv('Sidi-Bel_Abbes_Region.csv')\n",
    "\n",
    "# Task 1\n",
    "fire = BejaiaData[BejaiaData['Classes  '].str.startswith('fire')]\n",
    "print('Mean temp for fire:', fire['Temperature'].mean())\n",
    "print('Mean RH for fire:', fire[' RH'].mean())\n",
    "print('Mean Ws for fire:', fire[' Ws'].mean())\n",
    "print('Mean Rain for fire:', fire['Rain '].mean())\n",
    "print()\n",
    "\n",
    "notFire = BejaiaData[BejaiaData['Classes  '].str.startswith('not fire')]\n",
    "print('Mean temp for not fire:', notFire['Temperature'].mean())\n",
    "print('Mean RH for not fire:', notFire[' RH'].mean())\n",
    "print('Mean Ws for not fire:', notFire[' Ws'].mean())\n",
    "print('Mean Rain for not fire:', notFire['Rain '].mean())\n"
   ]
  },
  {
   "cell_type": "markdown",
   "id": "80cd5cc0",
   "metadata": {},
   "source": [
    "Task 2: Using the \" Sidi-Bel Abbes Region Dataset\", calculate and show the median values of four attributes (\"FFMC\", \"DMC\", \"DC\" and \"ISI\", respectively)"
   ]
  },
  {
   "cell_type": "code",
   "execution_count": 30,
   "id": "64a546f5",
   "metadata": {},
   "outputs": [
    {
     "name": "stdout",
     "output_type": "stream",
     "text": [
      "Median FFMC:  84.85\n",
      "Median DMC:  13.15\n",
      "Median DC:  31.5\n",
      "Median ISI:  4.6\n"
     ]
    }
   ],
   "source": [
    "print('Median FFMC: ',stats.median(SidiData['FFMC']))\n",
    "print('Median DMC: ',stats.median(SidiData['DMC']))\n",
    "print('Median DC: ',stats.median(SidiData['DC']))\n",
    "print('Median ISI: ',stats.median(SidiData['ISI']))  "
   ]
  },
  {
   "cell_type": "markdown",
   "id": "59cc3e97",
   "metadata": {},
   "source": [
    "Task 3: Using the \"Bejaia Region Dataset\", calculate and show the 25-percent, 60-percent, and 75-percent quantiles of four attributes (\"Temperature\", \"RH\", \"Ws\" and \"Rain\", respectively)"
   ]
  },
  {
   "cell_type": "code",
   "execution_count": 31,
   "id": "92139bf4",
   "metadata": {},
   "outputs": [
    {
     "name": "stdout",
     "output_type": "stream",
     "text": [
      "25% temperature:  29\n",
      "60% temperature:  32\n",
      "75% temperature:  34\n",
      "\n",
      "25% RH:  60\n",
      "60% RH:  73\n",
      "75% RH:  78\n",
      "\n",
      "25% Ws:  14\n",
      "60% Ws:  17\n",
      "75% Ws:  18\n",
      "\n",
      "25% rain:  0.0\n",
      "60% rain:  0.1\n",
      "75% rain:  0.5\n",
      "\n"
     ]
    }
   ],
   "source": [
    "print('25% temperature: ', stats.quantile(BejaiaData['Temperature'], 0.25))\n",
    "print('60% temperature: ', stats.quantile(BejaiaData['Temperature'], 0.60))\n",
    "print('75% temperature: ', stats.quantile(BejaiaData['Temperature'], 0.75))\n",
    "print()\n",
    "\n",
    "print('25% RH: ', stats.quantile(BejaiaData[' RH'], 0.25))   \n",
    "print('60% RH: ', stats.quantile(BejaiaData[' RH'], 0.60))\n",
    "print('75% RH: ', stats.quantile(BejaiaData[' RH'], 0.75))\n",
    "print()\n",
    "\n",
    "print('25% Ws: ', stats.quantile(BejaiaData[' Ws'], 0.25))\n",
    "print('60% Ws: ', stats.quantile(BejaiaData[' Ws'], 0.60))\n",
    "print('75% Ws: ', stats.quantile(BejaiaData[' Ws'], 0.75))\n",
    "print()\n",
    "\n",
    "print('25% rain: ', stats.quantile(BejaiaData['Rain '], 0.25))\n",
    "print('60% rain: ', stats.quantile(BejaiaData['Rain '], 0.60))\n",
    "print('75% rain: ', stats.quantile(BejaiaData['Rain '], 0.75)) \n",
    "print()\n"
   ]
  },
  {
   "cell_type": "markdown",
   "id": "16dee584",
   "metadata": {},
   "source": [
    "Task 4: Using the \"Sidi-Bel Abbes Region Dataset\", calculate and show the standard deviation values of four attributes (\"Temperature\", \" Rain\", \"BUI\" and \"FWI\", respectively)"
   ]
  },
  {
   "cell_type": "code",
   "execution_count": 32,
   "id": "443bab59",
   "metadata": {},
   "outputs": [
    {
     "name": "stdout",
     "output_type": "stream",
     "text": [
      "Temperature standard deviation: 3.6605129438500184\n",
      "Rain standard deviation: 1.480652797336956\n",
      "BUI standard deviation: 13.81382022708875\n",
      "FWI standard deviation: 8.104005673421685\n"
     ]
    }
   ],
   "source": [
    "print('Temperature standard deviation:', stats.std(SidiData['Temperature']))\n",
    "print('Rain standard deviation:', stats.std(SidiData['Rain ']))\n",
    "print('BUI standard deviation:', stats.std(SidiData['BUI']))\n",
    "print('FWI standard deviation:', stats.std(SidiData['FWI']))  "
   ]
  },
  {
   "cell_type": "markdown",
   "id": "dda342bf",
   "metadata": {},
   "source": [
    "Task 5: Correlation between two attributes\n",
    "1) Using the \"Bejaia Region Dataset\", calculate and show the “correlation coefficient” between “RH” and each of the following attributes (\"Temperature\", \"Ws\", \"Rain\", \"FFMC\", \"DMC\", \"DC\", \"ISI\", \"BUI\" and \"FWI\"), respectively;\n",
    "2) Describe, if there is one, which attribute has strongest positive correlation with attribute “RH”;\n",
    "3) Describe, if there is one, which attribute has strongest negative correlation with attribute “RH”."
   ]
  },
  {
   "cell_type": "code",
   "execution_count": 33,
   "id": "aaaa5f7e",
   "metadata": {},
   "outputs": [
    {
     "name": "stdout",
     "output_type": "stream",
     "text": [
      "Correlation between RH and : \n",
      "Temperature: -0.6601505504342499\n",
      "Windspeed: 0.24577445895806885\n",
      "Rain: 0.3291626170356644\n",
      "FFMC: -0.6531529118901973\n",
      "DMC: -0.34708013592219367\n",
      "DC: -0.3142712238307086\n",
      "ISI: -0.5864099949298507\n",
      "BUI: -0.33823263630375583\n",
      "FWI: -0.4760673581458338\n"
     ]
    }
   ],
   "source": [
    "print(\"Correlation between RH and : \")\n",
    "print(\"Temperature:\", stats.correlation(BejaiaData[\" RH\"], BejaiaData[\"Temperature\"]))\n",
    "print(\"Windspeed:\", stats.correlation(BejaiaData[\" RH\"], BejaiaData[\" Ws\"]))\n",
    "print(\"Rain:\", stats.correlation(BejaiaData[\" RH\"], BejaiaData[\"Rain \"]))\n",
    "print(\"FFMC:\", stats.correlation(BejaiaData[\" RH\"], BejaiaData[\"FFMC\"]))\n",
    "print(\"DMC:\", stats.correlation(BejaiaData[\" RH\"], BejaiaData[\"DMC\"]))\n",
    "print(\"DC:\", stats.correlation(BejaiaData[\" RH\"], BejaiaData[\"DC\"]))\n",
    "print(\"ISI:\", stats.correlation(BejaiaData[\" RH\"], BejaiaData[\"ISI\"]))\n",
    "print(\"BUI:\", stats.correlation(BejaiaData[\" RH\"], BejaiaData[\"BUI\"]))\n",
    "print(\"FWI:\", stats.correlation(BejaiaData[\" RH\"], BejaiaData[\"FWI\"]))"
   ]
  },
  {
   "cell_type": "markdown",
   "id": "afc8e510",
   "metadata": {},
   "source": [
    "Task 6: (open question) Assume you need to select some attributes or design some new attributes to distinguish these two classes (\"not fire\" and \"fire\") as accurate as possible, which attributes you would like to select or what new attributes you would like to design? You need to use the data analysis results to support your conclusion."
   ]
  },
  {
   "cell_type": "code",
   "execution_count": null,
   "id": "761ea81f",
   "metadata": {},
   "outputs": [],
   "source": []
  }
 ],
 "metadata": {
  "kernelspec": {
   "display_name": "Python 3 (ipykernel)",
   "language": "python",
   "name": "python3"
  },
  "language_info": {
   "codemirror_mode": {
    "name": "ipython",
    "version": 3
   },
   "file_extension": ".py",
   "mimetype": "text/x-python",
   "name": "python",
   "nbconvert_exporter": "python",
   "pygments_lexer": "ipython3",
   "version": "3.7.1"
  }
 },
 "nbformat": 4,
 "nbformat_minor": 5
}
