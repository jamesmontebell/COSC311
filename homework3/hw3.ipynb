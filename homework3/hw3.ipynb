{
 "cells": [
  {
   "cell_type": "code",
   "execution_count": 1,
   "metadata": {},
   "outputs": [],
   "source": [
    "import numpy as np\n",
    "from sklearn.neighbors import KNeighborsClassifier\n",
    "from sklearn.tree import DecisionTreeClassifier\n",
    "from sklearn.metrics import classification_report\n",
    "from sklearn.model_selection import train_test_split\n",
    "from sklearn.metrics import confusion_matrix\n",
    "from sklearn.metrics import accuracy_score\n",
    "from matplotlib import pyplot as plt\n",
    "import seaborn as sns; sns.set()\n",
    "import pandas as pd\n",
    "import numpy as np"
   ]
  },
  {
   "cell_type": "code",
   "execution_count": 17,
   "metadata": {},
   "outputs": [
    {
     "name": "stdout",
     "output_type": "stream",
     "text": [
      "[0.10201342 0.15436242 0.22684564 0.29932886 0.37583893 0.45637584\n",
      " 0.53154362 0.61342282 0.70201342 0.77315436 0.83087248 0.88724832\n",
      " 0.92348993 0.94899329 0.96644295 0.97852349 0.98255034 0.9852349\n",
      " 0.99194631 0.99463087 0.99731544 1.         1.         1.        ]\n",
      "1.0\n",
      "              precision    recall  f1-score   support\n",
      "\n",
      "           1       1.00      1.00      1.00        12\n",
      "           2       1.00      1.00      1.00         6\n",
      "           3       1.00      1.00      1.00         8\n",
      "           4       1.00      1.00      1.00        11\n",
      "           5       1.00      1.00      1.00        10\n",
      "           6       1.00      1.00      1.00         8\n",
      "           7       1.00      1.00      1.00        14\n",
      "           8       1.00      1.00      1.00         9\n",
      "           9       1.00      1.00      1.00        11\n",
      "          10       1.00      1.00      1.00         8\n",
      "          11       1.00      1.00      1.00         1\n",
      "          12       1.00      1.00      1.00        11\n",
      "          13       1.00      1.00      1.00         7\n",
      "          14       1.00      1.00      1.00         8\n",
      "          15       1.00      1.00      1.00        12\n",
      "          16       1.00      1.00      1.00        10\n",
      "          17       1.00      1.00      1.00        11\n",
      "          18       1.00      1.00      1.00        14\n",
      "          19       1.00      1.00      1.00        10\n",
      "          20       1.00      1.00      1.00         6\n",
      "\n",
      "    accuracy                           1.00       187\n",
      "   macro avg       1.00      1.00      1.00       187\n",
      "weighted avg       1.00      1.00      1.00       187\n",
      "\n",
      "[[12  0  0  0  0  0  0  0  0  0  0  0  0  0  0  0  0  0  0  0]\n",
      " [ 0  6  0  0  0  0  0  0  0  0  0  0  0  0  0  0  0  0  0  0]\n",
      " [ 0  0  8  0  0  0  0  0  0  0  0  0  0  0  0  0  0  0  0  0]\n",
      " [ 0  0  0 11  0  0  0  0  0  0  0  0  0  0  0  0  0  0  0  0]\n",
      " [ 0  0  0  0 10  0  0  0  0  0  0  0  0  0  0  0  0  0  0  0]\n",
      " [ 0  0  0  0  0  8  0  0  0  0  0  0  0  0  0  0  0  0  0  0]\n",
      " [ 0  0  0  0  0  0 14  0  0  0  0  0  0  0  0  0  0  0  0  0]\n",
      " [ 0  0  0  0  0  0  0  9  0  0  0  0  0  0  0  0  0  0  0  0]\n",
      " [ 0  0  0  0  0  0  0  0 11  0  0  0  0  0  0  0  0  0  0  0]\n",
      " [ 0  0  0  0  0  0  0  0  0  8  0  0  0  0  0  0  0  0  0  0]\n",
      " [ 0  0  0  0  0  0  0  0  0  0  1  0  0  0  0  0  0  0  0  0]\n",
      " [ 0  0  0  0  0  0  0  0  0  0  0 11  0  0  0  0  0  0  0  0]\n",
      " [ 0  0  0  0  0  0  0  0  0  0  0  0  7  0  0  0  0  0  0  0]\n",
      " [ 0  0  0  0  0  0  0  0  0  0  0  0  0  8  0  0  0  0  0  0]\n",
      " [ 0  0  0  0  0  0  0  0  0  0  0  0  0  0 12  0  0  0  0  0]\n",
      " [ 0  0  0  0  0  0  0  0  0  0  0  0  0  0  0 10  0  0  0  0]\n",
      " [ 0  0  0  0  0  0  0  0  0  0  0  0  0  0  0  0 11  0  0  0]\n",
      " [ 0  0  0  0  0  0  0  0  0  0  0  0  0  0  0  0  0 14  0  0]\n",
      " [ 0  0  0  0  0  0  0  0  0  0  0  0  0  0  0  0  0  0 10  0]\n",
      " [ 0  0  0  0  0  0  0  0  0  0  0  0  0  0  0  0  0  0  0  6]]\n"
     ]
    },
    {
     "name": "stderr",
     "output_type": "stream",
     "text": [
      "/var/folders/hp/hfcws7b939v7w1hwtbvw4trr0000gn/T/ipykernel_85325/3952713904.py:32: MatplotlibDeprecationWarning: Auto-removal of grids by pcolor() and pcolormesh() is deprecated since 3.5 and will be removed two minor releases later; please call grid(False) first.\n",
      "  plt.colorbar()\n"
     ]
    },
    {
     "data": {
      "image/png": "[encoded data removed]",
      "text/plain": [
       "<Figure size 432x288 with 2 Axes>"
      ]
     },
     "metadata": {},
     "output_type": "display_data"
    }
   ],
   "source": [
    "df = pd.read_csv('FoodTypeDataset.csv')\n",
    "X = df.iloc[:, :-1].values\n",
    "y = df.iloc[:, -1].values\n",
    "\n",
    "X_train, X_test, y_train, y_test = train_test_split(X, y, test_size=0.2, random_state=42)\n",
    "\n",
    "depth = np.arange(1, 25)\n",
    "accuracy = np.empty(len(depth))\n",
    "\n",
    "for i, k in enumerate(depth):\n",
    "    DT = DecisionTreeClassifier(max_depth=k)\n",
    "    DT.fit(X_train, y_train)\n",
    "    accuracy[i] = DT.score(X_train, y_train)\n",
    "    \n",
    "print(accuracy)\n",
    "\n",
    "DT = DecisionTreeClassifier(max_depth = 20, random_state = 0)\n",
    "DT.fit(X, y)\n",
    "score = DT.score(X_test, y_test)\n",
    "print(score)\n",
    "\n",
    "y_pred = DT.predict(X_test)\n",
    "report = classification_report(y_test, y_pred)\n",
    "print(report)\n",
    "\n",
    "cm = confusion_matrix(y_test,y_pred)\n",
    "print(cm)\n",
    "\n",
    "plt.imshow(cm)\n",
    "\n",
    "# Add a colorbar\n",
    "plt.colorbar()\n",
    "\n",
    "# Show the plot\n",
    "plt.show()"
   ]
  },
  {
   "cell_type": "code",
   "execution_count": null,
   "metadata": {},
   "outputs": [],
   "source": []
  }
 ],
 "metadata": {
  "kernelspec": {
   "display_name": "base",
   "language": "python",
   "name": "python3"
  },
  "language_info": {
   "codemirror_mode": {
    "name": "ipython",
    "version": 3
   },
   "file_extension": ".py",
   "mimetype": "text/x-python",
   "name": "python",
   "nbconvert_exporter": "python",
   "pygments_lexer": "ipython3",
   "version": "3.9.12"
  },
  "orig_nbformat": 4
 },
 "nbformat": 4,
 "nbformat_minor": 2
}
