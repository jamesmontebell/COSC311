{
 "cells": [
  {
   "cell_type": "code",
   "execution_count": 46,
   "metadata": {},
   "outputs": [
    {
     "name": "stdout",
     "output_type": "stream",
     "text": [
      "There are 1168 words in the document\n",
      "The 10 words that appear the most are: \n",
      "['THE']\n",
      "['TO']\n",
      "['OF', 'AND']\n",
      "['IN', 'A']\n",
      "['SALMON']\n",
      "['FISH']\n",
      "['IS', 'FOR']\n",
      "['THAT']\n",
      "['CAN']\n",
      "['WITH']\n",
      "Summefelt: 15, Wastewater: 6, Greenhouse: 5, Salmon: 56\n",
      "2: \n",
      "['NEXT', 'THING', 'LIGHT', 'WORLD’S', 'PRODUCE', 'KILOGRAMS', 'SALAD', 'FAR', 'NORMALLY', 'SPEND', 'DAY', 'HOUSE', 'WHILE', 'FILLED', 'BEEN', 'PHOSPHORUS', 'DIVERTED', 'SWIMMING', 'HEAD', 'FACILITY', 'INDOOR', 'INVESTORS', 'MANY', 'SEE', 'PAST', 'DECADE', 'DEMAND', 'FLOATING', 'CAGES', 'WATERS', 'CONCERNS', 'MOVING', 'OPERATIONS', 'WAY', 'SUSTAINABLE', 'FACILITIES', 'COMPETE', 'THAN', 'SEAFOOD', 'HERE', 'WISCONSIN', 'HELPED', 'UNLIKE', 'FILTERS', 'CHEAP', 'OFTEN', 'RECYCLES', 'FERTILIZER', 'CROPS', 'SUCH', 'APPROACHES', 'ENVIRONMENTALLY', 'HIM', 'TERJESEN', 'PHYSIOLOGIST', 'ALTHOUGH', 'NO', 'THOUSANDS', 'SMOLTS', 'ADULT', 'BUILDING', 'STOCKS', 'FARMERS', 'EVEN', 'AREAS', 'COMMERCIAL', 'REGULATORS', 'POLLUTION', 'PRODUCED', 'DISEASES', 'NOTE', 'POTENTIALLY', 'LED', 'ENTIRELY', 'APPROACH', 'ADVANTAGES', 'CONDITIONS', 'DISEASE', 'RISKS', 'PRODUCTION', 'MARKETS', 'LONG', 'GENETICALLY', 'FASTER', 'US', 'FINALLY', 'TWO', 'NEAR', 'NEED', 'UNLIKELY', 'AQUIFER', 'DOING', 'ALL', 'RIGHT', '2021', 'PER', 'BUILD', 'SURFACE', 'DAYS', 'OMEGA-3', 'FATTY', 'ACIDS', 'HEALTHFUL', 'HOW', 'LOOKING', 'PROJECT', 'PLANTS', 'FIRST', 'DEVELOP', 'GOTTSACKER', 'INTERESTED', 'WANEK', 'FURNITURE', 'PLANT', 'FULL', 'WANT', 'BECAUSE', 'HARVEST', 'CONFINED', 'USES', 'FIELDS', 'MARINE', 'CHALLENGE', 'TOXIC', 'BED', 'BUBBLING', 'BIOFILTERS', 'GRAINS', 'INSIDE', 'FRESH’S', 'SUMMERFELT’S', 'SIZE', 'LIFT', 'FILTRATION', 'ENTIRE', 'SIMPLER', 'WITHOUT', 'METAL', 'PIPES', 'RISK', 'OZONE', 'EASIER', 'IF', 'IT’S', 'BRACKISH', 'SALMON’S', 'MUST', 'KEEPING', 'BACTERIAL', '“WHEN', 'DIFFICULT', 'ADDS', 'YOUR', 'BREAK', 'DOWN', 'EFFICIENTLY', 'THERE', 'FOOD', 'PART', '$10', 'PARTNERS', 'WORKING', 'MAKE', 'UV', 'COST', 'ANTISENSE', 'MATURATION', 'SENSITIVE', 'STRESS', 'WITHIN', 'TWICE']\n",
      "5: \n",
      "['FARMING', 'LARGEST', 'GREENHOUSE', 'NUTRIENTS', 'USED', 'HUGE', 'NEARBY', 'GROW', 'FEED', 'PUMPS', 'COMPANY', 'YEARS', 'FARMED', 'LARGE', 'COASTAL', 'ENVIRONMENTAL', 'RAISE', 'FIRM', 'ITS', 'INDUSTRY', 'EGGS', 'TONS', 'USING', 'FARM', 'ZOHAR']\n",
      "10: \n",
      "['UP', 'FRESHWATER', 'AQUACULTURE', 'OTHER', 'HIS']\n"
     ]
    },
    {
     "data": {
      "text/plain": [
       "<BarContainer object of 29 artists>"
      ]
     },
     "execution_count": 46,
     "metadata": {},
     "output_type": "execute_result"
    },
    {
     "data": {
      "image/png": "[encoded data removed]",
      "text/plain": [
       "<Figure size 432x288 with 1 Axes>"
      ]
     },
     "metadata": {
      "needs_background": "light"
     },
     "output_type": "display_data"
    }
   ],
   "source": [
    "words = {}\n",
    "with open('SciencePaper.txt', 'r') as file:\n",
    "    new_line = file.readline()\n",
    "    tokens = []\n",
    "    for line in file:\n",
    "        tokens = line.upper().replace(',','').replace(';','').replace('(','').replace(')','')\\\n",
    "        .replace('!','').replace('?','').replace('.','').split()\n",
    "        for word in tokens:\n",
    "            try:\n",
    "                words[word] += 1\n",
    "            except:\n",
    "                words[word] = 1\n",
    "                \n",
    "print(\"There are \" + str(len(words.keys())) + \" words in the document\")\n",
    "\n",
    "\n",
    "summer = words['SUMMERFELT']\n",
    "waste = words['WASTEWATER']\n",
    "green = words['GREENHOUSE']\n",
    "salmon = words['SALMON']\n",
    "\n",
    "\n",
    "words_reverse = {}\n",
    "for word,count in words.items():\n",
    "    try:\n",
    "        words_reverse[count].append(word)\n",
    "    except:\n",
    "        words_reverse[count] = [word]\n",
    "keys = sorted(words_reverse, reverse=True)\n",
    "\n",
    "print(\"The 10 words that appear the most are: \")\n",
    "i = 0\n",
    "for key in keys:\n",
    "    if i > 9:\n",
    "        break\n",
    "    print(words_reverse[key])\n",
    "    i += 1\n",
    "    \n",
    "print(\"Summefelt: \" + str(summer) + \", Wastewater: \" + str(waste) + \", Greenhouse: \"+ str(green) + \", Salmon: \" +str(salmon))\n",
    "\n",
    "one = []\n",
    "two = []\n",
    "five = []\n",
    "ten = []\n",
    "\n",
    "for word in words_reverse[1]:\n",
    "    one.append(word)\n",
    "    \n",
    "for word in words_reverse[2]:\n",
    "    two.append(word)\n",
    "    \n",
    "for word in words_reverse[5]:\n",
    "    five.append(word)\n",
    "    \n",
    "for word in words_reverse[10]:\n",
    "    ten.append(word)\n",
    "    \n",
    "## have to print to a new file because output is too big to copy or screenshot\n",
    "with open('task2.1.txt', 'w') as new_file:\n",
    "    print(str(one), file = new_file)\n",
    "\n",
    "print(\"2: \"+ '\\n' + str(two))\n",
    "\n",
    "print(\"5: \"+ '\\n' + str(five))\n",
    "\n",
    "print(\"10: \" + '\\n'+ str(ten))\n",
    "\n",
    "\n",
    "avg_len = [sum([len(word) for word in value]) / len(value) for value in words_reverse.values()]\n",
    "appearances = list(words_reverse.keys())\n",
    "\n",
    "import matplotlib.pyplot as plt \n",
    "plt.bar(appearances, avg_len)\n",
    "\n",
    "    \n",
    "\n",
    "        "
   ]
  },
  {
   "cell_type": "markdown",
   "metadata": {},
   "source": []
  }
 ],
 "metadata": {
  "kernelspec": {
   "display_name": "base",
   "language": "python",
   "name": "python3"
  },
  "language_info": {
   "codemirror_mode": {
    "name": "ipython",
    "version": 3
   },
   "file_extension": ".py",
   "mimetype": "text/x-python",
   "name": "python",
   "nbconvert_exporter": "python",
   "pygments_lexer": "ipython3",
   "version": "3.9.12"
  },
  "orig_nbformat": 4,
  "vscode": {
   "interpreter": {
    "hash": "5fe847182bed11962157f9a615e8e85070321821e991462ec7ab8dbd26207ec1"
   }
  }
 },
 "nbformat": 4,
 "nbformat_minor": 2
}
