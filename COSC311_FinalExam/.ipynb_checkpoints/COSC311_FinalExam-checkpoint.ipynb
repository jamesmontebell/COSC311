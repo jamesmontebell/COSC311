{
 "cells": [
  {
   "cell_type": "markdown",
   "metadata": {},
   "source": [
    "# COSC 311 Final Exam\n",
    "\n",
    "Monday, May 22, 2023, 10:45 a.m.- 1:15 p.m."
   ]
  },
  {
   "cell_type": "markdown",
   "metadata": {},
   "source": [
    "To finish this exam, please download the Jupyter Notebook file and datasets from the exam instructions. You have 150 minutes to finish.\n",
    "\n",
    "This is an open-book exam. You may use the lecture notes, textbook, and online tutorials. However, you are NOT allowed to search any related example code and/or solution from any internet sources.\n",
    "\n",
    "Note: You need to **copy and paste your source code in the Answer Area after each question on MyClasses**. In addition, you also need to **upload this Jupyter Notebook file (\".ipynb\") with all your source code and test results** to the last task of this exam on MyClasses."
   ]
  },
  {
   "cell_type": "code",
   "execution_count": null,
   "metadata": {},
   "outputs": [],
   "source": []
  },
  {
   "cell_type": "markdown",
   "metadata": {},
   "source": [
    "### Question 1 (25 points):\n",
    "\n",
    "Use the attached Science News paper (\"ScienceNews.txt\"), write a Python program to analyze this paper and answer the following questions.\n",
    "\n",
    "Task 1: How many different words appeared in this paper?\n",
    "\n",
    "Task 2: What are the 5 words that appear most frequently (from high to low)?\n",
    "\n",
    "Task 3: What are the appearance frequencies for the following words?\n",
    "- sharks\n",
    "- ocean\n",
    "- body\n",
    "- water\n",
    "\n",
    "Task 4: Draw a bar figure to show the average length of words for each appearance frequency.\n",
    "\n",
    "Note: you may use **file = open('ScienceNews.txt', 'r', errors='ignore')** to open the file if there is encoding/decoding error."
   ]
  },
  {
   "cell_type": "code",
   "execution_count": null,
   "metadata": {},
   "outputs": [],
   "source": []
  },
  {
   "cell_type": "markdown",
   "metadata": {},
   "source": [
    "### Question 2 (25 pints):\n",
    "\n",
    "Please use the \"Housing Dataset\" attached to finish the following tasks. **Each figure needs to show title, xlabel, and ylabel**.\n",
    "\n",
    "Task 1: Draw a scatterplot figure to show the relationship between \"median_income\" and \"total_bedrooms\";\n",
    "\n",
    "Task 2: Draw a bar figure to show the **average** \"median_house_value\" for each type of \"ocean_proximity\" (i.e. for 'NEAR BAY', '<1H OCEAN', 'INLAND', 'NEAR OCEAN', and 'ISLAND', respectively)\n",
    "\n",
    "Task 3: Draw a histogram to show the \"total_rooms\" distribution in 5 bins for the \"NEAR OCEAN\" houses\n",
    "\n",
    "Task 4: Draw a bar figure to show the **maximum** \"households\" for each type of \"ocean_proximity\" (i.e. for 'NEAR BAY', '<1H OCEAN', 'INLAND', 'NEAR OCEAN', and 'ISLAND', respectively)"
   ]
  },
  {
   "cell_type": "code",
   "execution_count": null,
   "metadata": {},
   "outputs": [],
   "source": []
  },
  {
   "cell_type": "markdown",
   "metadata": {},
   "source": [
    "### Question 3 (25 points):\n",
    "\n",
    "Please use the \"breast cancer dataset\" included in the scikit-learn library to conduct the following classfication tasks. \n",
    "\n",
    "Task 1: Randomly split this dataset into two parts: 70% for training and 30% for testing. \n",
    "\n",
    "Task 2: Use KNN classification algorithm to conduct experiments and find out the most appropriate parameter for *k (1 <= k <= 15)* that obtains the highest testing accuracy. You need to draw a figure to show the accuracies for different values of *k*;\n",
    "\n",
    "Task 3: Use the split dataset in Task 1 and the best *k* value selected in Task 2, conduct independent test, then show the results using **Classification Report** and draw the confusion matrix (in a figure);  \n",
    "\n",
    "Task 4: Use the WHOLE dataset and the best *k* value selected in Task 2, conduct a 5-fold cross validation test and show the average accuracy. "
   ]
  },
  {
   "cell_type": "code",
   "execution_count": null,
   "metadata": {},
   "outputs": [],
   "source": []
  },
  {
   "cell_type": "markdown",
   "metadata": {},
   "source": [
    "### Question 4 (25 points):\n",
    "\n",
    "Please use the UCI ML hand-written digits dataset in our lecture note \"COSC311_Module5_4_Kmeans clustering\", which is included in the scikit-learn library.\n",
    "\n",
    "Task 1: Conduct PCA analysis on the dataset and find out how many principal components are needed to keep at least 85% variance (i.e. the ratio of variance loss, η, is less than 15%).\n",
    "\n",
    "Task 2: Assume *m* principal components are needed to keep at least 85% variance, transform the dataset from 64 dimensions to *m* dimensions.\n",
    "\n",
    "Task 3: Based on the above dimension-reduced dataset, conduct k-means clustering (*k* = 10, each cluster is a digit), output the center of each cluster.\n",
    "\n",
    "Task 4: Match each learned cluster label with the true label (i.e. ground truth) using **mode** function in **scipy.stats** package (i.e. based on most common value), calculate and output the clustering accuracy, and show the corresponding confusion matrix as a figure."
   ]
  },
  {
   "cell_type": "code",
   "execution_count": null,
   "metadata": {},
   "outputs": [],
   "source": []
  },
  {
   "cell_type": "code",
   "execution_count": null,
   "metadata": {},
   "outputs": [],
   "source": []
  }
 ],
 "metadata": {
  "kernelspec": {
   "display_name": "Python 3 (ipykernel)",
   "language": "python",
   "name": "python3"
  },
  "language_info": {
   "codemirror_mode": {
    "name": "ipython",
    "version": 3
   },
   "file_extension": ".py",
   "mimetype": "text/x-python",
   "name": "python",
   "nbconvert_exporter": "python",
   "pygments_lexer": "ipython3",
   "version": "3.7.1"
  }
 },
 "nbformat": 4,
 "nbformat_minor": 4
}
