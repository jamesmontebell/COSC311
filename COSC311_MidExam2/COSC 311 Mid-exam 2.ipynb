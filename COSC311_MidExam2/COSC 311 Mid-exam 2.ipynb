{
 "cells": [
  {
   "cell_type": "markdown",
   "metadata": {},
   "source": [
    "# COSC 311 Mid-exam 2"
   ]
  },
  {
   "cell_type": "markdown",
   "metadata": {},
   "source": [
    "To finish this exam, please download the \"housing.csv\" dataset from the exam instructions. You will have 80 minutes to finish.\n",
    "\n",
    "This is a open-book exam. You may use the lecture note, textbook, and online tutorials. However, you are NOT allowed to search any related example code and/or solution from any internet sources.\n",
    "\n",
    "Note: you need to copy and paste your source code in the Answer Area after each task on MyClasses. In addition, you also need to upload this Jupyter Notebook (\".ipynb\") file with all source code and test results to the last task of this exam on MyClasses."
   ]
  },
  {
   "cell_type": "code",
   "execution_count": 62,
   "metadata": {},
   "outputs": [],
   "source": [
    "import pandas as pd\n",
    "from matplotlib import pyplot as plt\n",
    "import stats\n",
    "import numpy as np\n",
    "from sklearn import datasets\n",
    "from sklearn.tree import DecisionTreeClassifier\n",
    "from sklearn.metrics import classification_report\n",
    "from sklearn.model_selection import train_test_split\n",
    "from sklearn.metrics import confusion_matrix\n",
    "from sklearn.metrics import accuracy_score"
   ]
  },
  {
   "cell_type": "markdown",
   "metadata": {},
   "source": [
    "I. Please use the \"Housing Dataset\" attached to finish the following tasks. For each task, please copy and paste your source code in the Answer Area after each task. At the same time, please upload your Jupyter Notebook (\".ipynb\") file with all source code and test results at the last task of this exam."
   ]
  },
  {
   "cell_type": "markdown",
   "metadata": {},
   "source": [
    "1. (20 points) Use Pandas package to:\n",
    "\n",
    "1) use info() function to show the column information of this dataset\n",
    "\n",
    "2) use describe() function to show the statistics (count, mean, std, min, ...) of this dataset\n",
    "\n",
    "3) show the unique values of the \"ocean_proximity\" column\n",
    "\n",
    "4) count how many samples there are in this dataset"
   ]
  },
  {
   "cell_type": "code",
   "execution_count": 23,
   "metadata": {},
   "outputs": [
    {
     "name": "stdout",
     "output_type": "stream",
     "text": [
      "<class 'pandas.core.frame.DataFrame'>\n",
      "RangeIndex: 20640 entries, 0 to 20639\n",
      "Data columns (total 10 columns):\n",
      " #   Column              Non-Null Count  Dtype  \n",
      "---  ------              --------------  -----  \n",
      " 0   longitude           20640 non-null  float64\n",
      " 1   latitude            20640 non-null  float64\n",
      " 2   housing_median_age  20640 non-null  float64\n",
      " 3   total_rooms         20640 non-null  float64\n",
      " 4   total_bedrooms      20433 non-null  float64\n",
      " 5   population          20640 non-null  float64\n",
      " 6   households          20640 non-null  float64\n",
      " 7   median_income       20640 non-null  float64\n",
      " 8   median_house_value  20640 non-null  float64\n",
      " 9   ocean_proximity     20640 non-null  object \n",
      "dtypes: float64(9), object(1)\n",
      "memory usage: 1.6+ MB\n"
     ]
    },
    {
     "data": {
      "text/plain": [
       "<bound method DataFrame.count of        longitude  latitude  housing_median_age  total_rooms  total_bedrooms  \\\n",
       "0        -122.23     37.88                41.0        880.0           129.0   \n",
       "1        -122.22     37.86                21.0       7099.0          1106.0   \n",
       "2        -122.24     37.85                52.0       1467.0           190.0   \n",
       "3        -122.25     37.85                52.0       1274.0           235.0   \n",
       "4        -122.25     37.85                52.0       1627.0           280.0   \n",
       "...          ...       ...                 ...          ...             ...   \n",
       "20635    -121.09     39.48                25.0       1665.0           374.0   \n",
       "20636    -121.21     39.49                18.0        697.0           150.0   \n",
       "20637    -121.22     39.43                17.0       2254.0           485.0   \n",
       "20638    -121.32     39.43                18.0       1860.0           409.0   \n",
       "20639    -121.24     39.37                16.0       2785.0           616.0   \n",
       "\n",
       "       population  households  median_income  median_house_value  \\\n",
       "0           322.0       126.0         8.3252            452600.0   \n",
       "1          2401.0      1138.0         8.3014            358500.0   \n",
       "2           496.0       177.0         7.2574            352100.0   \n",
       "3           558.0       219.0         5.6431            341300.0   \n",
       "4           565.0       259.0         3.8462            342200.0   \n",
       "...           ...         ...            ...                 ...   \n",
       "20635       845.0       330.0         1.5603             78100.0   \n",
       "20636       356.0       114.0         2.5568             77100.0   \n",
       "20637      1007.0       433.0         1.7000             92300.0   \n",
       "20638       741.0       349.0         1.8672             84700.0   \n",
       "20639      1387.0       530.0         2.3886             89400.0   \n",
       "\n",
       "      ocean_proximity  \n",
       "0            NEAR BAY  \n",
       "1            NEAR BAY  \n",
       "2            NEAR BAY  \n",
       "3            NEAR BAY  \n",
       "4            NEAR BAY  \n",
       "...               ...  \n",
       "20635          INLAND  \n",
       "20636          INLAND  \n",
       "20637          INLAND  \n",
       "20638          INLAND  \n",
       "20639          INLAND  \n",
       "\n",
       "[20640 rows x 10 columns]>"
      ]
     },
     "execution_count": 23,
     "metadata": {},
     "output_type": "execute_result"
    }
   ],
   "source": [
    "df = pd.read_csv(\"housing.csv\")\n",
    "df.info()\n",
    "df.describe()\n",
    "df['ocean_proximity'].unique()\n",
    "df.count"
   ]
  },
  {
   "cell_type": "markdown",
   "metadata": {},
   "source": [
    "2. (15 points) Draw a scatterplot figure to show the relationship between \"median_income\" and \"median_house_value\""
   ]
  },
  {
   "cell_type": "code",
   "execution_count": 18,
   "metadata": {},
   "outputs": [
    {
     "data": {
      "text/plain": [
       "Text(0, 0.5, 'median house value')"
      ]
     },
     "execution_count": 18,
     "metadata": {},
     "output_type": "execute_result"
    },
    {
     "data": {
      "image/png": "[encoded data removed]",
      "text/plain": [
       "<Figure size 432x288 with 1 Axes>"
      ]
     },
     "metadata": {
      "needs_background": "light"
     },
     "output_type": "display_data"
    }
   ],
   "source": [
    "plt.scatter(df['median_income'], df['median_house_value'])\n",
    "plt.title(\"Relationship between median income and median house value\")\n",
    "plt.xlabel('median income')\n",
    "plt.ylabel('median house value')"
   ]
  },
  {
   "cell_type": "markdown",
   "metadata": {},
   "source": [
    "3. (15 points) Draw a bar figure to show the average \"population\" for each type of \"ocean_proximity\" (i.e. for 'NEAR BAY', '<1H OCEAN', 'INLAND', 'NEAR OCEAN', and 'ISLAND', respectively)"
   ]
  },
  {
   "cell_type": "code",
   "execution_count": 46,
   "metadata": {},
   "outputs": [
    {
     "name": "stdout",
     "output_type": "stream",
     "text": [
      "[1230.3174672489083, 1520.2904991243433, 1391.0462524805373, 1354.0086531226486, 668.0]\n"
     ]
    },
    {
     "data": {
      "text/plain": [
       "Text(0, 0.5, 'Population')"
      ]
     },
     "execution_count": 46,
     "metadata": {},
     "output_type": "execute_result"
    },
    {
     "data": {
      "image/png": "[encoded data removed]",
      "text/plain": [
       "<Figure size 432x288 with 1 Axes>"
      ]
     },
     "metadata": {
      "needs_background": "light"
     },
     "output_type": "display_data"
    }
   ],
   "source": [
    "bay = df['population'][df['ocean_proximity'] == 'NEAR BAY'].mean()\n",
    "ocean = df['population'][df['ocean_proximity'] == '<1H OCEAN'].mean()\n",
    "inland = df['population'][df['ocean_proximity'] == 'INLAND'].mean()\n",
    "nearOcean = df['population'][df['ocean_proximity'] == 'NEAR OCEAN'].mean()\n",
    "island = df['population'][df['ocean_proximity'] == 'ISLAND'].mean()\n",
    "\n",
    "avg = [bay, ocean, inland, nearOcean, island]\n",
    "\n",
    "print(avg)\n",
    "plt.bar(range(len(avg)), avg)\n",
    "xlabels = ['Bay', '<1H Ocean', 'Inland', 'Near Ocean', 'island']\n",
    "plt.xticks(range(len(avg)), xlabels)\n",
    "plt.title(\"Average population for each type of coean_proximity\")\n",
    "plt.xlabel('Ocean proximity')\n",
    "plt.ylabel('Population')\n",
    "\n"
   ]
  },
  {
   "cell_type": "markdown",
   "metadata": {},
   "source": [
    "4. (15 points) Draw a histogram to show the \"median_income\" distribution in 5 bins for the \"NEAR BAY\" houses"
   ]
  },
  {
   "cell_type": "code",
   "execution_count": 59,
   "metadata": {},
   "outputs": [
    {
     "data": {
      "text/plain": [
       "Text(0.5, 1.0, 'Median income distribution for near bay houses')"
      ]
     },
     "execution_count": 59,
     "metadata": {},
     "output_type": "execute_result"
    },
    {
     "data": {
      "image/png": "[encoded data removed]",
      "text/plain": [
       "<Figure size 432x288 with 1 Axes>"
      ]
     },
     "metadata": {
      "needs_background": "light"
     },
     "output_type": "display_data"
    }
   ],
   "source": [
    "income = df['median_income'][df['ocean_proximity'] == 'NEAR BAY'].values\n",
    "plt.hist(income, 5)\n",
    "plt.xlabel('Median Income Value')\n",
    "plt.ylabel('Amount')\n",
    "plt.title('Median income distribution for near bay houses')"
   ]
  },
  {
   "cell_type": "markdown",
   "metadata": {},
   "source": [
    "II. Please use the \"breast cancer dataset\" included in the scikit-learn library to conduct the following classfication tasks. The code for loading this dataset is given below:\n",
    "\n",
    "*from sklearn import datasets*\n",
    "\n",
    "*dataset = datasets.load_breast_cancer()*\n",
    "\n",
    "*X = dataset['data']*\n",
    "\n",
    "*y = dataset['target']*\n",
    "\n",
    "\n",
    "For each task, please copy and paste your source code in the Answer Area after each task. At the same time, please upload your Jupyter Notebook (\".ipynb\") file with all source code and test results at the last task of this exam."
   ]
  },
  {
   "cell_type": "markdown",
   "metadata": {},
   "source": [
    "1. (5 points) Randomly split this dataset into two parts: 60% for training and 40% for testing\n",
    "2. (20 points) Build a Decision Tree classification model with appropriate parameters (to obtain higher testing accuracy). Show the testing accuracy using \".score()\" method\n",
    "3. (10 points) Show the confusion matrix of the above independent test"
   ]
  },
  {
   "cell_type": "code",
   "execution_count": 78,
   "metadata": {},
   "outputs": [
    {
     "name": "stdout",
     "output_type": "stream",
     "text": [
      "[0.92668622 0.96774194 0.97360704 0.98826979 0.9941349  0.99706745\n",
      " 1.         1.         1.         1.         1.         1.\n",
      " 1.         1.         1.         1.         1.         1.\n",
      " 1.         1.         1.         1.         1.         1.        ]\n",
      "1.0\n",
      "[[ 85   0]\n",
      " [  0 143]]\n"
     ]
    },
    {
     "data": {
      "image/png": "[encoded data removed]",
      "text/plain": [
       "<Figure size 144x144 with 1 Axes>"
      ]
     },
     "metadata": {
      "needs_background": "light"
     },
     "output_type": "display_data"
    }
   ],
   "source": [
    "dataset = datasets.load_breast_cancer()\n",
    "X = dataset['data'] # type: ignore\n",
    "y = dataset['target'] # type: ignore\n",
    "\n",
    "X_train, X_test, y_train, y_test = \\\n",
    "    train_test_split(X, y, test_size=0.4, random_state=42, stratify=y)\n",
    "\n",
    "depth = np.arange(1, 25)\n",
    "accuracy = np.empty(len(depth))\n",
    "\n",
    "for i, k in enumerate(depth):\n",
    "    DT = DecisionTreeClassifier(max_depth=k)\n",
    "    DT.fit(X_train, y_train)\n",
    "    accuracy[i] = DT.score(X_train, y_train)\n",
    "    \n",
    "print(accuracy)\n",
    "\n",
    "DT = DecisionTreeClassifier(max_depth = 7, random_state = 0)\n",
    "DT.fit(X, y)\n",
    "score = DT.score(X_test, y_test)\n",
    "print(score)\n",
    "\n",
    "y_pred = DT.predict(X_test)\n",
    "\n",
    "cm = confusion_matrix(y_test,y_pred)\n",
    "print(cm)\n",
    "\n",
    "\n",
    "fig, ax = plt.subplots(figsize=(2, 2))\n",
    "ax.matshow(cm, cmap=plt.cm.Blues, alpha=0.3)\n",
    "for i in range(cm.shape[0]):\n",
    "    for j in range(cm.shape[1]):\n",
    "        ax.text(x=j, y=i,s=cm[i, j], va='center', ha='center', size='large')\n",
    "plt.xlabel('Predictions', fontsize=10)\n",
    "plt.ylabel('Actuals', fontsize=10)\n",
    "plt.title('Confusion Matrix', fontsize=10)\n",
    "plt.show()\n",
    "\n"
   ]
  },
  {
   "cell_type": "code",
   "execution_count": null,
   "metadata": {},
   "outputs": [],
   "source": []
  }
 ],
 "metadata": {
  "kernelspec": {
   "display_name": "Python 3",
   "language": "python",
   "name": "python3"
  },
  "language_info": {
   "codemirror_mode": {
    "name": "ipython",
    "version": 3
   },
   "file_extension": ".py",
   "mimetype": "text/x-python",
   "name": "python",
   "nbconvert_exporter": "python",
   "pygments_lexer": "ipython3",
   "version": "3.9.12"
  }
 },
 "nbformat": 4,
 "nbformat_minor": 4
}
