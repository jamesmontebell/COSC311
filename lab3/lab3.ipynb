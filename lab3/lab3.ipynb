{
 "cells": [
  {
   "cell_type": "code",
   "execution_count": 114,
   "metadata": {},
   "outputs": [],
   "source": [
    "import numpy as np\n",
    "import pandas as pd\n",
    "import stats\n",
    "from matplotlib import pyplot as plt"
   ]
  },
  {
   "cell_type": "code",
   "execution_count": 115,
   "metadata": {},
   "outputs": [],
   "source": [
    "df_b = pd.read_csv(\"Bejaia_Region.csv\")\n",
    "df_s = pd.read_csv(\"Sidi-Bel_Abbes_Region.csv\")"
   ]
  },
  {
   "cell_type": "code",
   "execution_count": 116,
   "metadata": {},
   "outputs": [],
   "source": [
    "temp = df_b['Temperature'][df_b['Classes  '] == 'fire   '].mean()\n",
    "rh = df_b[' RH'][df_b['Classes  '] == 'fire   '].mean()\n",
    "ws = df_b[' Ws'][df_b['Classes  '] == 'fire   '].mean()\n",
    "rain = df_b['Rain '][df_b['Classes  '] == 'fire   '].mean()\n",
    "\n",
    "means_fire_y = sorted([temp, rh, ws, rain])\n",
    "means_fire = sorted({\"temp\":temp, \"rh\":rh, \"ws\":ws, \"rain\":rain})\n",
    "\n",
    "tempN = df_b['Temperature'][df_b['Classes  '] == 'not fire   '].mean()\n",
    "rhN = df_b[' RH'][df_b['Classes  '] == 'not fire   '].mean()\n",
    "wsN = df_b[' Ws'][df_b['Classes  '] == 'not fire   '].mean()\n",
    "rainN = df_b['Rain '][df_b['Classes  '] == 'not fire   '].mean()\n",
    "\n",
    "means_nofire_y = sorted([tempN, rhN, wsN, rainN])\n",
    "means_nofire = sorted({\"temp\":tempN, \"rh\":rhN, \"ws\":wsN, \"rain\":rainN})\n"
   ]
  },
  {
   "cell_type": "code",
   "execution_count": 117,
   "metadata": {},
   "outputs": [
    {
     "data": {
      "image/png": "[encoded data removed]",
      "text/plain": [
       "<Figure size 432x288 with 2 Axes>"
      ]
     },
     "metadata": {
      "needs_background": "light"
     },
     "output_type": "display_data"
    }
   ],
   "source": [
    "plt.subplot(1, 2, 1)\n",
    "plt.bar(means_fire,means_fire_y)\n",
    "plt.xticks([means_fire[0], means_fire[1], means_fire[2], means_fire[3]])\n",
    "plt.xlabel(\"Attributes\")\n",
    "plt.ylabel(\"Means\")\n",
    "plt.title(\"Mean values of the 'Bejaia Region Dataset' with fire\")\n",
    "\n",
    "plt.subplot(1, 2, 2)\n",
    "plt.bar(means_nofire,means_nofire_y)\n",
    "plt.xticks([means_nofire[0], means_nofire[1], means_nofire[2], means_nofire[3]])\n",
    "plt.xlabel(\"Attributes\")\n",
    "plt.ylabel(\"Means\")\n",
    "plt.title(\"Mean values of the 'Bejaia Region Dataset' with no fire\")\n",
    "plt.subplots_adjust(top=0.92, bottom=0.08, left=0.01, right=1.20, hspace=1,\n",
    "                    wspace=1.5)\n",
    "plt.show()\n",
    "\n",
    "#Observations: both plots are very similar, no fire shows more rain with no fire"
   ]
  },
  {
   "cell_type": "code",
   "execution_count": 118,
   "metadata": {},
   "outputs": [
    {
     "name": "stdout",
     "output_type": "stream",
     "text": [
      "[81.10245901639344, 17.031967213114758, 5.892622950819674]\n"
     ]
    }
   ],
   "source": [
    "ffmc = df_s['FFMC'].mean()\n",
    "dmc = df_s['DMC'].mean()\n",
    "# dc = df_s['DC'].max() weird error with finding mean of DC\n",
    "isi = df_s['ISI'].mean()   \n",
    "\n",
    "means = [ffmc, dmc, isi]\n",
    "\n",
    "print(means)"
   ]
  },
  {
   "cell_type": "code",
   "execution_count": 119,
   "metadata": {},
   "outputs": [
    {
     "name": "stdout",
     "output_type": "stream",
     "text": [
      "[29.0, 60.0, 14.0, 0.0]\n",
      "[32.0, 73.0, 17.0, 0.1]\n",
      "[34.0, 77.75, 18.0, 0.5]\n"
     ]
    }
   ],
   "source": [
    "temp = df_b['Temperature'].quantile(.25)\n",
    "rh = df_b[' RH'].quantile(.25)\n",
    "ws = df_b[' Ws'].quantile(.25)\n",
    "rain = df_b['Rain '].quantile(.25)\n",
    "\n",
    "tf = [temp, rh, ws, rain]\n",
    "print(tf)\n",
    "\n",
    "temp = df_b['Temperature'].quantile(.60)\n",
    "rh = df_b[' RH'].quantile(.60)\n",
    "ws = df_b[' Ws'].quantile(.60)\n",
    "rain = df_b['Rain '].quantile(.60)\n",
    "\n",
    "sixty = [temp, rh, ws, rain]\n",
    "print(sixty)\n",
    "\n",
    "temp = df_b['Temperature'].quantile(.75)\n",
    "rh = df_b[' RH'].quantile(.75)\n",
    "ws = df_b[' Ws'].quantile(.75)\n",
    "rain = df_b['Rain '].quantile(.75)\n",
    "\n",
    "sf = [temp, rh, ws, rain]\n",
    "print(sf)"
   ]
  },
  {
   "cell_type": "code",
   "execution_count": 120,
   "metadata": {},
   "outputs": [
    {
     "name": "stdout",
     "output_type": "stream",
     "text": [
      "[3.6756079066282155, 1.4867586079722621, 13.878867546308372, 8.171973088178195]\n"
     ]
    }
   ],
   "source": [
    "temp = df_s['Temperature'].std()\n",
    "rain = df_s['Rain '].std()\n",
    "bui = df_s['BUI'].std()\n",
    "fwi = df_s['FWI'].std()\n",
    "\n",
    "std = [temp, rain, bui, fwi]\n",
    "print(std)"
   ]
  },
  {
   "cell_type": "code",
   "execution_count": 121,
   "metadata": {},
   "outputs": [
    {
     "name": "stdout",
     "output_type": "stream",
     "text": [
      "-0.5983092532100057\n",
      "0.14143599351834904\n",
      "0.1490267004023902\n",
      "-0.6455399414499591\n",
      "-0.3790566434428495\n",
      "-0.6953433400806897\n",
      "-0.3590879568685334\n",
      "-0.589169813750097\n"
     ]
    }
   ],
   "source": [
    "print(stats.correlation(df_s[' RH'], df_s['Temperature']))\n",
    "print(stats.correlation(df_s[' RH'], df_s[' Ws']))\n",
    "print(stats.correlation(df_s[' RH'], df_s['Rain ']))\n",
    "print(stats.correlation(df_s[' RH'], df_s['FFMC']))\n",
    "print(stats.correlation(df_s[' RH'], df_s['DMC']))\n",
    "# print(stats.correlation(df_s[' RH'], df_s['DC'])) Weird error with this column\n",
    "print(stats.correlation(df_s[' RH'], df_s['ISI']))\n",
    "print(stats.correlation(df_s[' RH'], df_s['BUI']))\n",
    "print(stats.correlation(df_s[' RH'], df_s['FWI']))\n",
    "\n",
    "#strongest positive: RH and Rain\n",
    "#strongest negative: RH and ISI"
   ]
  },
  {
   "cell_type": "code",
   "execution_count": 122,
   "metadata": {},
   "outputs": [
    {
     "name": "stdout",
     "output_type": "stream",
     "text": [
      "-0.5230002180024971\n",
      "-0.47211516996466757\n"
     ]
    }
   ],
   "source": [
    "temp1 = df_b['Temperature'][df_b['Classes  '] == 'fire   '].values\n",
    "temp2 = df_b['Temperature'][df_b['Classes  '] == 'not fire   '].values\n",
    "\n",
    "rain1 = df_b['Rain '][df_b['Classes  '] == 'fire   '].values\n",
    "rain2 = df_b['Rain '][df_b['Classes  '] == 'not fire   '].values\n",
    "\n",
    "print(stats.correlation(temp1, rain1))\n",
    "print(stats.correlation(temp2, rain2))\n",
    "\n",
    "#correlation between temperature and rain with fire and without fire\n"
   ]
  },
  {
   "cell_type": "code",
   "execution_count": null,
   "metadata": {},
   "outputs": [],
   "source": []
  }
 ],
 "metadata": {
  "kernelspec": {
   "display_name": "base",
   "language": "python",
   "name": "python3"
  },
  "language_info": {
   "codemirror_mode": {
    "name": "ipython",
    "version": 3
   },
   "file_extension": ".py",
   "mimetype": "text/x-python",
   "name": "python",
   "nbconvert_exporter": "python",
   "pygments_lexer": "ipython3",
   "version": "3.9.12"
  },
  "orig_nbformat": 4
 },
 "nbformat": 4,
 "nbformat_minor": 2
}
