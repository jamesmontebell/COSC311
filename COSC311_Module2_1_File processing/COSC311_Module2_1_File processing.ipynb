{
 "cells": [
  {
   "cell_type": "markdown",
   "metadata": {},
   "source": [
    "# COSC 311: Introduction to Data Visualization and Interpretation"
   ]
  },
  {
   "cell_type": "markdown",
   "metadata": {},
   "source": [
    "Instructor: Dr. Shuangquan (Peter) Wang\n",
    "\n",
    "Email: spwang@salisbury.edu\n",
    "\n",
    "Department of Computer Science, Salisbury University\n"
   ]
  },
  {
   "cell_type": "markdown",
   "metadata": {},
   "source": [
    "# Module 2_Data Processing and Organization\n",
    "\n",
    "## 1. File processing\n",
    "\n"
   ]
  },
  {
   "cell_type": "markdown",
   "metadata": {},
   "source": [
    "**Contents of this note refer to 1) the teaching materials at Department of Computer Science, William & Mary; 2) the textbook \"Python crash course - a hands-on project-based introduction to programming\"; 3) Python toturial: https://docs.python.org/3/tutorial/**"
   ]
  },
  {
   "cell_type": "markdown",
   "metadata": {},
   "source": [
    "**<font color=red>All rights reserved. Dissemination or sale of any part of this note is NOT permitted.</font>**"
   ]
  },
  {
   "cell_type": "markdown",
   "metadata": {},
   "source": [
    "# File\n",
    "\n",
    "What is a file?\n",
    "\n",
    "File is a collection of data. It is static and stored somewhere in your computer or cloud."
   ]
  },
  {
   "cell_type": "markdown",
   "metadata": {},
   "source": [
    "## How to open a file\n",
    "\n",
    "Syntax:\n",
    "\n",
    "**file_object = open(file_name,mode to open the file)**\n",
    "\n",
    "Open file and return a corresponding file object.\n",
    "\n",
    "Mode to open the file: (refer to https://stackabuse.com/file-handling-in-python/)\n",
    "- r: Opens a file for **reading only** (*by default*)\n",
    "- r+: Opens a file for **both reading and writing**\n",
    "- w: Opens a file for **writing only**\n",
    "- w+: Open a file for **writing and reading**\n",
    "- a: Opens a file for **appending**\n",
    "- a+: Opens a file for both **appending and reading**\n",
    "\n",
    "Python looks for the file in the directory where the program that's currently being executed is stored (i.e. the data file and the program file are in the same folder).\n",
    "\n",
    "If the data file and the program file are NOT in the same folder, the file path is needed. An example for Windows system: file_name = 'C:\\python_files\\filename.txt'"
   ]
  },
  {
   "cell_type": "markdown",
   "metadata": {},
   "source": [
    "## How to read the entire file\n",
    "\n",
    "Syntax:\n",
    "\n",
    "**file_object.read()**\n",
    "\n",
    "Read the entire contents of the file and store it as a long string"
   ]
  },
  {
   "cell_type": "markdown",
   "metadata": {},
   "source": [
    "## How to read a line from the file\n",
    "\n",
    "Syntax:\n",
    "\n",
    "**file_object.readline()**"
   ]
  },
  {
   "cell_type": "markdown",
   "metadata": {},
   "source": [
    "## How to close a file\n",
    "\n",
    "Syntax:\n",
    "\n",
    "**file_object.close()**\n",
    "\n",
    "You should call **file_object.close()** to close the file and immediately free up any system resources used by it. \n",
    "\n",
    "If you don’t explicitly close a file, Python’s garbage collector will eventually destroy the object and close the open file for you, but the file may stay open for a while.\n",
    "\n",
    "You can't guarantee that the changes will be saved to the file until it is closed. Thus, it is bad to rely on garbage collector to close your file for you."
   ]
  },
  {
   "cell_type": "code",
   "execution_count": 1,
   "metadata": {},
   "outputs": [
    {
     "name": "stdout",
     "output_type": "stream",
     "text": [
      "85\n",
      "93\n",
      "28\n",
      "99\n",
      "100\n",
      "98\n",
      "80\n",
      "79\n",
      "59\n",
      "91\n",
      "\n"
     ]
    }
   ],
   "source": [
    "# example: read the entire file\n",
    "my_file = open('scores_1.txt','r')\n",
    "content = my_file.read()\n",
    "print(content)\n",
    "my_file.close()"
   ]
  },
  {
   "cell_type": "code",
   "execution_count": 2,
   "metadata": {},
   "outputs": [
    {
     "data": {
      "text/plain": [
       "'85\\n'"
      ]
     },
     "execution_count": 2,
     "metadata": {},
     "output_type": "execute_result"
    }
   ],
   "source": [
    "# example: read a line\n",
    "my_file = open('scores_1.txt','r')\n",
    "my_file.readline()"
   ]
  },
  {
   "cell_type": "code",
   "execution_count": 3,
   "metadata": {},
   "outputs": [
    {
     "name": "stdout",
     "output_type": "stream",
     "text": [
      "93\n",
      "\n"
     ]
    }
   ],
   "source": [
    "# pay attention to the output format\n",
    "print(my_file.readline())"
   ]
  },
  {
   "cell_type": "code",
   "execution_count": 4,
   "metadata": {},
   "outputs": [
    {
     "data": {
      "text/plain": [
       "'28\\n'"
      ]
     },
     "execution_count": 4,
     "metadata": {},
     "output_type": "execute_result"
    }
   ],
   "source": [
    "my_file.readline()"
   ]
  },
  {
   "cell_type": "code",
   "execution_count": 5,
   "metadata": {},
   "outputs": [
    {
     "data": {
      "text/plain": [
       "'99\\n'"
      ]
     },
     "execution_count": 5,
     "metadata": {},
     "output_type": "execute_result"
    }
   ],
   "source": [
    "my_file.readline()"
   ]
  },
  {
   "cell_type": "code",
   "execution_count": 6,
   "metadata": {},
   "outputs": [
    {
     "data": {
      "text/plain": [
       "'100\\n'"
      ]
     },
     "execution_count": 6,
     "metadata": {},
     "output_type": "execute_result"
    }
   ],
   "source": [
    "my_file.readline()"
   ]
  },
  {
   "cell_type": "code",
   "execution_count": 7,
   "metadata": {},
   "outputs": [
    {
     "data": {
      "text/plain": [
       "'98\\n'"
      ]
     },
     "execution_count": 7,
     "metadata": {},
     "output_type": "execute_result"
    }
   ],
   "source": [
    "my_file.readline()"
   ]
  },
  {
   "cell_type": "code",
   "execution_count": 8,
   "metadata": {},
   "outputs": [
    {
     "data": {
      "text/plain": [
       "'80\\n'"
      ]
     },
     "execution_count": 8,
     "metadata": {},
     "output_type": "execute_result"
    }
   ],
   "source": [
    "my_file.readline()"
   ]
  },
  {
   "cell_type": "code",
   "execution_count": 9,
   "metadata": {},
   "outputs": [
    {
     "data": {
      "text/plain": [
       "'79\\n'"
      ]
     },
     "execution_count": 9,
     "metadata": {},
     "output_type": "execute_result"
    }
   ],
   "source": [
    "my_file.readline()"
   ]
  },
  {
   "cell_type": "code",
   "execution_count": 10,
   "metadata": {},
   "outputs": [
    {
     "data": {
      "text/plain": [
       "'59\\n'"
      ]
     },
     "execution_count": 10,
     "metadata": {},
     "output_type": "execute_result"
    }
   ],
   "source": [
    "my_file.readline()"
   ]
  },
  {
   "cell_type": "code",
   "execution_count": 11,
   "metadata": {},
   "outputs": [
    {
     "data": {
      "text/plain": [
       "'91\\n'"
      ]
     },
     "execution_count": 11,
     "metadata": {},
     "output_type": "execute_result"
    }
   ],
   "source": [
    "my_file.readline()"
   ]
  },
  {
   "cell_type": "code",
   "execution_count": 12,
   "metadata": {},
   "outputs": [
    {
     "data": {
      "text/plain": [
       "''"
      ]
     },
     "execution_count": 12,
     "metadata": {},
     "output_type": "execute_result"
    }
   ],
   "source": [
    "my_file.readline()"
   ]
  },
  {
   "cell_type": "code",
   "execution_count": 13,
   "metadata": {},
   "outputs": [],
   "source": [
    "my_file.close()"
   ]
  },
  {
   "cell_type": "markdown",
   "metadata": {},
   "source": [
    "**Example:**\n",
    "\n",
    "Calculating the mean value of numbers in above file."
   ]
  },
  {
   "cell_type": "code",
   "execution_count": 14,
   "metadata": {},
   "outputs": [
    {
     "name": "stdout",
     "output_type": "stream",
     "text": [
      "81.2\n"
     ]
    }
   ],
   "source": [
    "# Calculating the mean value of numbers in file scores_1.txt\n",
    "my_file = open('scores_1.txt','r')\n",
    "all_scores = 0\n",
    "counter = 0\n",
    "\n",
    "new_score = my_file.readline()\n",
    "while new_score != '':\n",
    "    all_scores += int(new_score)\n",
    "    counter += 1\n",
    "    new_score = my_file.readline()\n",
    "print(all_scores/counter)\n",
    "my_file.close()"
   ]
  },
  {
   "cell_type": "markdown",
   "metadata": {
    "collapsed": true
   },
   "source": [
    "**How about if there are some empty lines in the file? For example: file scores_2.txt**"
   ]
  },
  {
   "cell_type": "code",
   "execution_count": 3,
   "metadata": {},
   "outputs": [
    {
     "name": "stdout",
     "output_type": "stream",
     "text": [
      "81.2\n"
     ]
    }
   ],
   "source": [
    "# Calculating the mean value of numbers in file scores_2.txt\n",
    "my_file = open('scores_2.txt','r')\n",
    "all_scores = 0\n",
    "counter = 0\n",
    "\n",
    "new_score = my_file.readline()\n",
    "while new_score != '':\n",
    "    if new_score != '\\n':\n",
    "        all_scores += int(new_score)\n",
    "        counter += 1\n",
    "    new_score = my_file.readline()\n",
    "print(all_scores/counter)\n",
    "my_file.close()"
   ]
  },
  {
   "cell_type": "markdown",
   "metadata": {},
   "source": [
    "**How about if there are multiple items in one line (e.g: name & score)? For example: scores_3.txt**\n",
    "\n",
    "- **split(separator)** method returns a list of strings after breaking the given string by the specified separator (https://www.geeksforgeeks.org/python-string-split/)\n",
    "\n",
    "- If separator is not specified or is None, consecutive whitespace are regarded as a single separator (https://docs.python.org/2/library/stdtypes.html#str.split)\n",
    "\n",
    "- Whitespace include spaces, newlines '\\n' and tabs '\\t', and consecutive whitespace are processed together (https://note.nkmk.me/en/python-split-rsplit-splitlines-re/)"
   ]
  },
  {
   "cell_type": "code",
   "execution_count": 16,
   "metadata": {},
   "outputs": [
    {
     "data": {
      "text/plain": [
       "['Linda', '85']"
      ]
     },
     "execution_count": 16,
     "metadata": {},
     "output_type": "execute_result"
    }
   ],
   "source": [
    "# Example\n",
    "a = 'Linda 85\\n'\n",
    "a.split()"
   ]
  },
  {
   "cell_type": "code",
   "execution_count": 1,
   "metadata": {},
   "outputs": [
    {
     "name": "stdout",
     "output_type": "stream",
     "text": [
      "81.0\n"
     ]
    }
   ],
   "source": [
    "# Calculating the mean value of numbers in file scores_3.txt\n",
    "my_file = open('scores_3.txt','r')\n",
    "all_scores = 0\n",
    "counter = 0\n",
    "\n",
    "new_score = my_file.readline()\n",
    "while new_score != '':\n",
    "    name_score_list = new_score.split()\n",
    "    all_scores += int(name_score_list[1])\n",
    "    counter += 1\n",
    "    new_score = my_file.readline()\n",
    "print(all_scores/counter)\n",
    "my_file.close()"
   ]
  },
  {
   "cell_type": "markdown",
   "metadata": {},
   "source": [
    "#  "
   ]
  },
  {
   "cell_type": "markdown",
   "metadata": {},
   "source": [
    "## Write to a file\n",
    "\n",
    "Syntax:\n",
    "\n",
    "**file_object.write(content)**\n",
    "\n",
    "Write content to the file. \n",
    "\n",
    "Pay attention: \n",
    "\n",
    "- You need to open the file using an appropriate mode (r+, w, w+, a, a+) before writing\n",
    "\n",
    "- Python can only write strings to a text file. If you want to store numerical data in a text file, you have to convert the data to string using str() method."
   ]
  },
  {
   "cell_type": "markdown",
   "metadata": {},
   "source": [
    "**Example:**\n",
    "\n",
    "Write 1,000 random numbers between 0 and 100 to a file named numbers.txt. Each number is in a line."
   ]
  },
  {
   "cell_type": "code",
   "execution_count": 2,
   "metadata": {},
   "outputs": [],
   "source": [
    "from random import randint\n",
    "\n",
    "new_file = open('numbers.txt','w')\n",
    "for i in range(1000):\n",
    "    number = randint(0,100)\n",
    "    new_file.write(str(number) + '\\n')\n",
    "new_file.close()"
   ]
  },
  {
   "cell_type": "markdown",
   "metadata": {},
   "source": [
    "### Another way to open a file\n",
    "\n",
    "Syntax:\n",
    "\n",
    "**with open(file_name,mode to open the file) as file_object:**\n",
    "\n",
    "It is good practice to use the **with** keyword when dealing with file objects. The advantage is that the file is properly closed after its suite finishes (No need to close the file using *file_object.close()*), even if an exception is raised at some point."
   ]
  },
  {
   "cell_type": "code",
   "execution_count": 4,
   "metadata": {},
   "outputs": [],
   "source": [
    "# use with keyword in above example\n",
    "from random import randint\n",
    "\n",
    "with open('numbers_2.txt','w') as new_file:\n",
    "    for i in range(1000):\n",
    "        number = randint(0,100)\n",
    "        new_file.write(str(number) + '\\n')\n"
   ]
  },
  {
   "cell_type": "markdown",
   "metadata": {},
   "source": [
    "### Use print to write to a file\n",
    "\n",
    "Syntax: \n",
    "\n",
    "**print(content,file = file_object)**\n",
    "\n",
    "No need to convert the content to string. "
   ]
  },
  {
   "cell_type": "code",
   "execution_count": 5,
   "metadata": {},
   "outputs": [],
   "source": [
    "# use print to write to a file in above example\n",
    "from random import randint\n",
    "\n",
    "with open('numbers_3.txt','w') as new_file:\n",
    "    for i in range(1000):\n",
    "        number = randint(0,100)\n",
    "        print(number,file = new_file)"
   ]
  },
  {
   "cell_type": "markdown",
   "metadata": {
    "collapsed": true
   },
   "source": [
    "## Exceptions for file"
   ]
  },
  {
   "cell_type": "code",
   "execution_count": 6,
   "metadata": {},
   "outputs": [
    {
     "ename": "FileNotFoundError",
     "evalue": "[Errno 2] No such file or directory: 'goaway.txt'",
     "output_type": "error",
     "traceback": [
      "\u001b[0;31m---------------------------------------------------------------------------\u001b[0m",
      "\u001b[0;31mFileNotFoundError\u001b[0m                         Traceback (most recent call last)",
      "\u001b[1;32m/Users/jamesmontebell/Github/COSC311/COSC311_Module2_1_File processing/COSC311_Module2_1_File processing.ipynb Cell 40\u001b[0m in \u001b[0;36m<cell line: 2>\u001b[0;34m()\u001b[0m\n\u001b[1;32m      <a href='vscode-notebook-cell:/Users/jamesmontebell/Github/COSC311/COSC311_Module2_1_File%20processing/COSC311_Module2_1_File%20processing.ipynb#X54sZmlsZQ%3D%3D?line=0'>1</a>\u001b[0m \u001b[39m# when the file is not existed\u001b[39;00m\n\u001b[0;32m----> <a href='vscode-notebook-cell:/Users/jamesmontebell/Github/COSC311/COSC311_Module2_1_File%20processing/COSC311_Module2_1_File%20processing.ipynb#X54sZmlsZQ%3D%3D?line=1'>2</a>\u001b[0m f \u001b[39m=\u001b[39m \u001b[39mopen\u001b[39;49m(\u001b[39m'\u001b[39;49m\u001b[39mgoaway.txt\u001b[39;49m\u001b[39m'\u001b[39;49m,\u001b[39m'\u001b[39;49m\u001b[39mr\u001b[39;49m\u001b[39m'\u001b[39;49m)\n",
      "\u001b[0;31mFileNotFoundError\u001b[0m: [Errno 2] No such file or directory: 'goaway.txt'"
     ]
    }
   ],
   "source": [
    "# when the file is not existed\n",
    "f = open('goaway.txt','r')"
   ]
  },
  {
   "cell_type": "code",
   "execution_count": 7,
   "metadata": {},
   "outputs": [
    {
     "name": "stdout",
     "output_type": "stream",
     "text": [
      "file open error\n"
     ]
    }
   ],
   "source": [
    "# Use try & except method\n",
    "try:\n",
    "    f = open('goaway.txt','r')\n",
    "except:\n",
    "    print('file open error')"
   ]
  },
  {
   "cell_type": "code",
   "execution_count": 8,
   "metadata": {},
   "outputs": [
    {
     "name": "stdout",
     "output_type": "stream",
     "text": [
      "file does not exist.\n"
     ]
    }
   ],
   "source": [
    "# more specifically, we specify the error type\n",
    "try:\n",
    "    f = open('goaway.txt','r')\n",
    "except FileNotFoundError:\n",
    "    print('file does not exist.')"
   ]
  },
  {
   "cell_type": "code",
   "execution_count": 9,
   "metadata": {},
   "outputs": [
    {
     "name": "stdout",
     "output_type": "stream",
     "text": [
      "Index out of range of your list\n"
     ]
    }
   ],
   "source": [
    "# multiple exceptions\n",
    "try:\n",
    "    #f = open('goaway.txt','r')\n",
    "    my_list = [1,2,3,4]\n",
    "    print(my_list[5])\n",
    "except FileNotFoundError:\n",
    "    print('file does not exist.')\n",
    "except IndexError:\n",
    "    print('Index out of range of your list')"
   ]
  },
  {
   "cell_type": "markdown",
   "metadata": {},
   "source": [
    "#   "
   ]
  },
  {
   "cell_type": "markdown",
   "metadata": {},
   "source": [
    "## Application example\n",
    "\n",
    "Open and read the file named 'Bovary_Excerpt.txt', create a dictionary that uses each word in this file as a key and the appearance frequency of this word as the value. "
   ]
  },
  {
   "cell_type": "code",
   "execution_count": 10,
   "metadata": {},
   "outputs": [],
   "source": [
    "word_counts = {}\n",
    "with open('Bovary_Excerpt.txt','r') as file: # \\ lets you continue writing onto nextline\n",
    "    for line in file:\n",
    "        tokens = line.upper().replace(',','').replace(';','').replace('(','').replace(')','')\\\n",
    "        .replace('!','').replace('?','').replace('.','').split()\n",
    "        for word in tokens:\n",
    "            try:\n",
    "                word_counts[word] += 1\n",
    "            except:\n",
    "                word_counts[word] = 1"
   ]
  },
  {
   "cell_type": "code",
   "execution_count": 11,
   "metadata": {},
   "outputs": [
    {
     "name": "stdout",
     "output_type": "stream",
     "text": [
      "11\n"
     ]
    }
   ],
   "source": [
    "print(word_counts['AVEC'])"
   ]
  },
  {
   "cell_type": "code",
   "execution_count": 12,
   "metadata": {},
   "outputs": [
    {
     "name": "stdout",
     "output_type": "stream",
     "text": [
      "20\n"
     ]
    }
   ],
   "source": [
    "print(word_counts['ELLE'])"
   ]
  },
  {
   "cell_type": "markdown",
   "metadata": {},
   "source": [
    "Based on the above dictionary, how about if we reverse the key and value in the dictionary? That is, we use the appearence frequency as the key and use the words as the value."
   ]
  },
  {
   "cell_type": "code",
   "execution_count": 28,
   "metadata": {},
   "outputs": [
    {
     "name": "stdout",
     "output_type": "stream",
     "text": [
      "['FEMME', 'ÉTÉ', 'FOLLE', 'AUTREFOIS', \"L'AVAIT\", 'AIMÉ', 'SERVILITÉS', \"L'AVAIENT\", 'DÉTACHÉ', \"D'ELLE\", 'DAVANTAGE', 'ENJOUÉE', 'JADIS', 'EXPANSIVE', 'AIMANTE', 'VIEILLISSANT', 'DEVENUE', 'FAÇON', 'VIN', 'ÉVENTÉ', 'VINAIGRE', \"D'HUMEUR\", 'DIFFICILE', 'PIAILLARDE', 'NERVEUSE', 'TANT', 'SOUFFERT', 'PLAINDRE', \"D'ABORD\", 'GOTONS', 'VINGT', 'MAUVAIS', 'LIEUX', 'RENVOYAIENT', 'BLASÉ', 'PUANT', \"L'IVRESSE\", \"L'ORGUEIL\", 'RÉVOLTÉ', 'TUE', 'AVALANT', 'RAGE', 'STOÏCISME', 'MUET', 'GARDA', 'MORT', 'CESSE', 'COURSES', 'AFFAIRES', 'AVOUÉS', 'PRÉSIDENT', 'RAPPELAIT', \"L'ÉCHÉANCE\", 'BILLETS', 'OBTENAIT', 'RETARDS', 'COUSAIT', 'BLANCHISSAIT', 'SURVEILLAIT', 'SOLDAIT', 'MÉMOIRES', 'TANDIS', \"S'INQUIÉTER\", 'CONTINUELLEMENT', 'ENGOURDI', 'SOMNOLENCE', 'BOUDEUSE', 'RÉVEILLAIT', 'DIRE', 'DÉSOBLIGEANTES', 'RESTAIT', 'FUMER', 'COIN', 'CRACHANT', 'CENDRES', 'EUT', 'FALLUT', 'METTRE', 'NOURRICE', 'EUX', 'MARMOT', 'GÂTÉ', 'PRINCE', 'NOURRISSAIT', 'CONFITURES', 'LAISSAIT', 'SOULIERS', 'PHILOSOPHE', 'ALLER', 'NU', 'ENFANTS', 'BÊTES', \"L'ENCONTRE\", 'TENDANCES', 'MATERNELLES', 'CERTAIN', 'IDÉAL', 'VIRIL', \"L'ENFANCE\", 'LEQUEL', 'TÂCHAIT', 'FORMER', 'FILS', 'VOULANT', \"QU'ON\", \"L'ÉLEVÂT\", 'DUREMENT', 'SPARTIATE', 'BONNE', 'CONSTITUTION', 'COUCHER', 'APPRENAIT', 'BOIRE', 'GRANDS', 'RHUM', 'INSULTER', 'PROCESSIONS', 'PAISIBLE', 'RÉPONDAIT', 'EFFORTS', 'DÉCOUPAIT', 'CARTONS', 'RACONTAIT', 'HISTOIRES', \"S'ENTRETENAIT\", 'MONOLOGUES', 'GAIETÉS', 'MÉLANCOLIQUES', 'CHATTERIES', 'BABILLARDES', \"L'ISOLEMENT\", 'VIE', 'REPORTA', 'CETTE', \"D'ENFANT\", 'VANITÉS', 'ÉPARSES', 'BRISÉES', 'RÊVAIT', 'HAUTES', 'POSITIONS', 'DÉJÀ', 'SPIRITUEL', 'ÉTABLI', 'CHAUSSÉES', 'MAGISTRATURE', 'LIRE', 'ENSEIGNA', 'PIANO', 'CHANTER', 'PETITES', 'ROMANCES', 'CELA', 'SOUCIEUX', 'LETTRES', \"N'ÉTAIT\", 'PEINE', 'AURAIENT-ILS', 'JAMAIS', \"L'ENTRETENIR\", 'ÉCOLES', 'GOUVERNEMENT', 'ACHETER', 'CHARGE', 'FONDS', 'COMMERCE', 'TOUPET', 'RÉUSSIT', 'MORDAIT', 'LÈVRES', 'VAGABONDAIT', 'LABOUREURS', 'CHASSAIT', 'MOTTE', 'TERRE', 'CORBEAUX', \"S'ENVOLAIENT\", 'MANGEAIT', 'MÛRES', 'LONG', 'FOSSÉS', 'GARDAIT', 'DINDONS', 'GAULE', 'FANAIT', 'MOISSON', 'COURAIT', 'MARELLE', 'PORCHE', \"L'ÉGLISE\", 'JOURS', 'GRANDES', 'FÊTES', 'SUPPLIAIT', 'BEDEAU', 'LAISSER', 'SONNER', 'CLOCHES', 'PENDRE', 'GRANDE', 'CORDE', 'SENTIR', 'EMPORTER', 'VOLÉE', 'AUSSI', 'POUSSA-T-IL', 'CHÊNE', 'ACQUIT', 'FORTES', 'BELLES', 'COULEURS', 'DOUZE', 'OBTINT', 'COMMENÇÂT', 'ÉTUDES', 'CHARGEA', 'COURTES', 'SUIVIES', 'POUVAIENT', 'SERVIR', 'GRAND-CHOSE', 'MOMENTS', 'PERDUS', 'DONNAIENT', 'SACRISTIE', 'DEBOUT', 'HÂTE', 'BAPTÊME', 'ENTERREMENT', 'CHERCHER', 'ÉLÈVE', \"L'ANGÉLUS\", \"N'AVAIT\", 'MONTAIT', \"S'INSTALLAIT:\", 'MOUCHERONS', 'PAPILLONS', 'NUIT', 'TOURNOYAIENT', 'AUTOUR', 'CHANDELLE', 'CHAUD', \"S'ENDORMAIT\", 'BONHOMME', \"S'ASSOUPISSANT\", 'VENTRE', 'TARDAIT', 'RONFLER', 'BOUCHE', 'OUVERTE', \"D'AUTRES\", 'REVENANT', 'PORTER', 'VIATIQUE', 'QUELQUE', 'MALADE', 'ENVIRONS', 'APERCEVAIT', 'POLISSONNAIT', \"L'APPELAIT\", 'SERMONNAIT', 'QUART', \"D'HEURE\", 'PROFITAIT', \"L'OCCASION\", 'CONJUGUER', 'VERBE', \"D'UN\", 'ARBRE', 'VENAIT', 'INTERROMPRE', 'CONNAISSANCE', 'PASSAIT', 'RESTE', 'CONTENT', 'JEUNE', 'MÉMOIRE', 'RESTER', 'LÀ', 'ÉNERGIQUE', 'HONTEUX', 'FATIGUÉ', 'PLUTÔT', 'CÉDA', 'RÉSISTANCE', 'ATTENDIT', 'AN', 'GAMIN', 'EÛT', 'PREMIÈRE', 'COMMUNION', 'SIX', 'PASSÈRENT', \"L'ANNÉE\", 'DÉFINITIVEMENT', 'ENVOYÉ', \"L'AMENA\", \"D'OCTOBRE\", \"L'ÉPOQUE\", 'FOIRE', 'SAINT-', 'ROMAIN', 'SERAIT', 'IMPOSSIBLE', 'AUCUN', 'NOUS', 'RAPPELER', 'GARÇON', 'TEMPÉRAMENT', 'MODÉRÉ', 'RÉCRÉATIONS', 'ÉCOUTANT', 'DORMANT', 'DORTOIR', 'MANGEANT', 'RÉFECTOIRE', 'CORRESPONDANT', 'QUINCAILLIER', 'GROS', 'RUE', 'GANTERIE', 'DIMANCHE', 'BOUTIQUE', 'FERMÉE', 'PROMENER', 'PORT', 'REGARDER', 'BATEAUX', 'RAMENAIT', 'DÈS', 'SEPT', 'HEURES', 'AVANT', 'SOUPER', 'JEUDI', 'ÉCRIVAIT', 'LONGUE', 'LETTRE', \"L'ENCRE\", 'PAINS', 'CACHETER', 'LISAIT', 'VOLUME', \"D'ANACHARSIS\", 'PROMENADE', 'CAUSAIT', 'DOMESTIQUE', 'FORCE', \"S'APPLIQUER\", 'MAINTINT', 'MILIEU', 'GAGNA', 'PREMIER', 'ACCESSIT', 'NATURELLE', 'TROISIÈME', 'PARENTS', 'RETIRÈRENT', 'ÉTUDIER', 'MÉDECINE', 'PERSUADÉS', 'POURRAIT', 'POUSSER', 'SEUL', \"JUSQU'AU\", 'BACCALAURÉAT', 'CHOISIT', 'QUATRIÈME', \"L'EAU-DE-ROBEC\", 'TEINTURIER', 'CONNAISSANCE:', 'CONCLUT', 'ARRANGEMENTS', 'PENSION', 'PROCURA', 'MEUBLES', 'TABLE', 'CHAISES', 'VENIR', 'LIT', 'MERISIER', 'ACHETA', 'FONTE', 'PROVISION', 'CHAUFFER', 'PAUVRE', 'BOUT', 'RECOMMANDATIONS', 'CONDUIRE', 'ÊTRE', 'ABANDONNÉ', 'PROGRAMME', 'LUT', \"L'AFFICHE\", 'EFFET', \"D'ÉTOURDISSEMENT:\", \"D'ANATOMIE\", 'PATHOLOGIE', 'PHYSIOLOGIE', 'PHARMACIE', 'CHIMIE', 'BOTANIQUE', 'CLINIQUE', 'THÉRAPEUTIQUE', 'COMPTER', \"L'HYGIÈNE\", 'NI', 'MATIÈRE', 'MÉDICALE', 'NOMS', 'IGNORAIT', 'ÉTYMOLOGIES', 'AUTANT', 'SANCTUAIRES', \"D'AUGUSTES\", 'TÉNÈBRES', 'COMPRIT', 'ÉCOUTER', 'SAISISSAIT', 'POURTANT', 'RELIÉS', 'PERDAIT', 'SEULE', 'ACCOMPLISSAIT', 'TÂCHE', 'QUOTIDIENNE', 'MANIÈRE', 'CHEVAL', 'MANÈGE', 'PLACE', 'YEUX', 'BANDÉS', 'IGNORANT', 'BESOGNE', 'BROIE', 'ÉPARGNER', 'DÉPENSE', 'MESSAGER', 'MORCEAU', 'VEAU', 'CUIT', 'FOUR', 'DÉJEUNAIT', 'MATIN', \"L'HÔPITAL\", 'BATTANT', 'SEMELLE', 'CONTRE', 'MUR', 'ENSUITE', 'FALLAIT', \"L'AMPHITHÉÂTRE\", \"L'HOSPICE\", 'REVENIR', 'TRAVERS', 'MAIGRE', 'DÎNER', 'PROPRIÉTAIRE', 'REMONTAIT', 'REMETTAIT', 'TRAVAIL', 'HABITS', 'MOUILLÉS', 'FUMAIENT', 'DEVANT', 'ROUGI', 'BEAUX', 'SOIRS', \"D'ÉTÉ\", \"L'HEURE\", 'TIÈDES', 'SONT', 'VIDES', 'SERVANTES', 'JOUENT', 'VOLANT', 'SEUIL', 'FENÊTRE', \"S'ACCOUDAIT\", 'RIVIÈRE', 'QUARTIER', 'IGNOBLE', 'VENISE', 'COULAIT', 'BAS', 'JAUNE', 'VIOLETTE', 'BLEUE', 'GRILLES', 'ACCROUPIS', 'BORD', 'LAVAIENT', 'LEURS', 'BRAS', \"L'EAU\", 'PERCHES', 'PARTANT', 'HAUT', 'GRENIERS', 'ÉCHEVEAUX', 'COTON', 'SÉCHAIENT', \"L'AIR\", 'FACE', 'AU-DELÀ', 'TOITS', 'CIEL', 'PUR', \"S'ÉTENDAIT\", 'SOLEIL', 'COUCHANT', 'BON', 'LÀ-BAS', 'QUELLE', 'FRAÎCHEUR', 'HÊTRAIE', 'NARINES', 'ASPIRER', 'BONNES', 'ODEURS', 'VENAIENT', 'MAIGRIT', 'TAILLE', \"S'ALLONGEA\", 'FIGURE', 'SORTE', \"D'EXPRESSION\", 'DOLENTE', 'RENDIT', 'INTÉRESSANTE', 'NONCHALANCE', 'VINT', 'DÉLIER', 'RÉSOLUTIONS', 'FAITES', 'MANQUA', 'LENDEMAIN', 'SAVOURANT', 'PARESSE', 'RETOURNA', \"L'HABITUDE\", 'CABARET', 'PASSION', 'DOMINOS', \"S'ENFERMER\", 'SALE', 'APPARTEMENT', 'PUBLIC', 'Y', 'TAPER', 'TABLES', 'MARBRE', 'PETITS', 'OS', 'MOUTON', 'MARQUÉS', 'POINTS', 'NOIRS', 'SEMBLAIT', 'ACTE', 'PRÉCIEUX', 'LIBERTÉ', 'REHAUSSAIT', \"D'ESTIME\", 'VIS-À-VIS', \"L'INITIATION\", \"L'ACCÈS\", 'PLAISIRS', 'DÉFENDUS', 'ENTRANT', 'POSAIT', 'MAIN', 'BOUTON', 'PORTE', 'JOIE', 'SENSUELLE', 'COMPRIMÉES', 'DILATÈRENT', 'COEUR', 'COUPLETS', 'CHANTAIT', 'BIENVENUES', \"S'ENTHOUSIASMA\", 'BÉRANGER', 'SUT', 'PUNCH', 'ENFIN', \"L'AMOUR\", 'GRÂCE', 'CES', 'TRAVAUX', 'PRÉPARATOIRES', 'ÉCHOUA', 'COMPLÈTEMENT', 'EXAMEN', \"D'OFFICIER\", 'SANTÉ', \"L'ATTENDAIT\", 'FÊTER', 'SUCCÈS', \"S'ARRÊTA\", \"L'ENTRÉE\", 'DEMANDER', 'CONTA', \"L'EXCUSA\", 'REJETANT', \"L'ÉCHEC\", \"L'INJUSTICE\", 'EXAMINATEURS', 'RAFFERMIT', 'CHARGEANT', \"D'ARRANGER\", 'CINQ', 'TARD', 'SEULEMENT', 'VÉRITÉ', 'VIEILLE', \"L'ACCEPTA\", 'POUVANT', 'SUPPOSER', \"QU'UN\", 'ISSU', 'FÛT', 'SOT']\n"
     ]
    }
   ],
   "source": [
    "word_lists = {}\n",
    "for word,count in word_counts.items():\n",
    "    try:\n",
    "        word_lists[count].append(word)\n",
    "    except:\n",
    "        word_lists[count] = [word]\n",
    "print(word_lists[1])"
   ]
  },
  {
   "cell_type": "code",
   "execution_count": 14,
   "metadata": {},
   "outputs": [],
   "source": [
    "appearances = list(word_lists.keys()) \n",
    "#for value in word_lists.values():\n",
    "#    print(len(value))\n",
    "num_words = [len(value) for value in word_lists.values()]\n",
    "avg_len = [sum([len(word) for word in value]) / len(value) for value in word_lists.values()] # avg. word length for each key "
   ]
  },
  {
   "cell_type": "code",
   "execution_count": 15,
   "metadata": {},
   "outputs": [
    {
     "name": "stdout",
     "output_type": "stream",
     "text": [
      "[24, 1, 8, 77, 28, 20, 11, 2, 17, 3, 38, 6, 7, 21, 43, 39, 50, 4, 33, 5, 25, 26, 15, 44, 13, 12]\n",
      "[1, 624, 8, 1, 1, 2, 2, 80, 1, 26, 1, 7, 3, 2, 1, 1, 1, 7, 1, 4, 1, 1, 1, 1, 3, 1]\n",
      "[2.0, 7.238782051282051, 3.625, 2.0, 3.0, 4.0, 3.0, 5.925, 3.0, 5.230769230769231, 2.0, 4.285714285714286, 4.666666666666667, 2.0, 1.0, 2.0, 2.0, 4.428571428571429, 3.0, 3.5, 2.0, 3.0, 3.0, 2.0, 3.0, 3.0]\n"
     ]
    }
   ],
   "source": [
    "print(appearances)\n",
    "print(num_words)\n",
    "print(avg_len)"
   ]
  },
  {
   "cell_type": "code",
   "execution_count": 18,
   "metadata": {},
   "outputs": [
    {
     "data": {
      "text/plain": [
       "<BarContainer object of 26 artists>"
      ]
     },
     "execution_count": 18,
     "metadata": {},
     "output_type": "execute_result"
    },
    {
     "data": {
      "image/png": "[encoded data removed]",
      "text/plain": [
       "<Figure size 432x288 with 1 Axes>"
      ]
     },
     "metadata": {
      "needs_background": "light"
     },
     "output_type": "display_data"
    }
   ],
   "source": [
    "import matplotlib.pyplot as plt \n",
    "plt.bar(appearances, avg_len)"
   ]
  },
  {
   "cell_type": "code",
   "execution_count": null,
   "metadata": {},
   "outputs": [],
   "source": []
  },
  {
   "cell_type": "markdown",
   "metadata": {},
   "source": [
    "**matplotlib.pyplot**\n",
    "\n",
    "https://matplotlib.org/stable/api/_as_gen/matplotlib.pyplot.html\n",
    "\n",
    "matplotlib.pyplot is an interface to matplotlib, which is a comprehensive library for creating static, animated, and interactive visualizations in Python. It provides a MATLAB-like way of plotting.\n",
    "\n",
    "matplotlib.pyplot is mainly intended for interactive plots and simple cases of programmatic plot generation.\n"
   ]
  },
  {
   "cell_type": "code",
   "execution_count": 27,
   "metadata": {},
   "outputs": [
    {
     "name": "stdout",
     "output_type": "stream",
     "text": [
      "[0.  0.1 0.2 0.3 0.4 0.5 0.6 0.7 0.8 0.9 1.  1.1 1.2 1.3 1.4 1.5 1.6 1.7\n",
      " 1.8 1.9 2.  2.1 2.2 2.3 2.4 2.5 2.6 2.7 2.8 2.9 3.  3.1 3.2 3.3 3.4 3.5\n",
      " 3.6 3.7 3.8 3.9 4.  4.1 4.2 4.3 4.4 4.5 4.6 4.7 4.8 4.9]\n",
      "[ 0.          0.09983342  0.19866933  0.29552021  0.38941834  0.47942554\n",
      "  0.56464247  0.64421769  0.71735609  0.78332691  0.84147098  0.89120736\n",
      "  0.93203909  0.96355819  0.98544973  0.99749499  0.9995736   0.99166481\n",
      "  0.97384763  0.94630009  0.90929743  0.86320937  0.8084964   0.74570521\n",
      "  0.67546318  0.59847214  0.51550137  0.42737988  0.33498815  0.23924933\n",
      "  0.14112001  0.04158066 -0.05837414 -0.15774569 -0.2555411  -0.35078323\n",
      " -0.44252044 -0.52983614 -0.61185789 -0.68776616 -0.7568025  -0.81827711\n",
      " -0.87157577 -0.91616594 -0.95160207 -0.97753012 -0.993691   -0.99992326\n",
      " -0.99616461 -0.98245261]\n"
     ]
    },
    {
     "data": {
      "text/plain": [
       "[<matplotlib.lines.Line2D at 0x7f9b88439730>]"
      ]
     },
     "execution_count": 27,
     "metadata": {},
     "output_type": "execute_result"
    },
    {
     "data": {
      "image/png": "[encoded data removed]",
      "text/plain": [
       "<Figure size 432x288 with 1 Axes>"
      ]
     },
     "metadata": {
      "needs_background": "light"
     },
     "output_type": "display_data"
    }
   ],
   "source": [
    "import numpy as np\n",
    "import matplotlib.pyplot as plt\n",
    "\n",
    "x = np.arange(0, 5, 0.1)\n",
    "print(x)\n",
    "y = np.sin(x)\n",
    "print(y)\n",
    "plt.plot(x, y)"
   ]
  },
  {
   "cell_type": "code",
   "execution_count": null,
   "metadata": {},
   "outputs": [],
   "source": []
  }
 ],
 "metadata": {
  "kernelspec": {
   "display_name": "base",
   "language": "python",
   "name": "python3"
  },
  "language_info": {
   "codemirror_mode": {
    "name": "ipython",
    "version": 3
   },
   "file_extension": ".py",
   "mimetype": "text/x-python",
   "name": "python",
   "nbconvert_exporter": "python",
   "pygments_lexer": "ipython3",
   "version": "3.9.12"
  },
  "vscode": {
   "interpreter": {
    "hash": "5fe847182bed11962157f9a615e8e85070321821e991462ec7ab8dbd26207ec1"
   }
  }
 },
 "nbformat": 4,
 "nbformat_minor": 2
}
